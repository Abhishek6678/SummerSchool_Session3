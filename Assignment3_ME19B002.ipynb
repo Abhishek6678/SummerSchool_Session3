{
 "cells": [
  {
   "cell_type": "code",
   "execution_count": 50,
   "id": "3b755f61-f45d-4683-be1e-af3afbf980bd",
   "metadata": {},
   "outputs": [],
   "source": [
    "import pandas as pd\n",
    "import numpy as np"
   ]
  },
  {
   "cell_type": "markdown",
   "id": "8040a1ae-bccb-4b67-a3c1-27024044f9c6",
   "metadata": {},
   "source": [
    "***Cleaning the Train Data***"
   ]
  },
  {
   "cell_type": "code",
   "execution_count": 51,
   "id": "cec7756e-6981-402e-9607-08fdedfe287b",
   "metadata": {},
   "outputs": [
    {
     "data": {
      "text/html": [
       "<div>\n",
       "<style scoped>\n",
       "    .dataframe tbody tr th:only-of-type {\n",
       "        vertical-align: middle;\n",
       "    }\n",
       "\n",
       "    .dataframe tbody tr th {\n",
       "        vertical-align: top;\n",
       "    }\n",
       "\n",
       "    .dataframe thead th {\n",
       "        text-align: right;\n",
       "    }\n",
       "</style>\n",
       "<table border=\"1\" class=\"dataframe\">\n",
       "  <thead>\n",
       "    <tr style=\"text-align: right;\">\n",
       "      <th></th>\n",
       "      <th>PassengerId</th>\n",
       "      <th>Survived</th>\n",
       "      <th>Pclass</th>\n",
       "      <th>Name</th>\n",
       "      <th>Sex</th>\n",
       "      <th>Age</th>\n",
       "      <th>SibSp</th>\n",
       "      <th>Parch</th>\n",
       "      <th>Ticket</th>\n",
       "      <th>Fare</th>\n",
       "      <th>Cabin</th>\n",
       "      <th>Embarked</th>\n",
       "    </tr>\n",
       "  </thead>\n",
       "  <tbody>\n",
       "    <tr>\n",
       "      <th>0</th>\n",
       "      <td>1</td>\n",
       "      <td>0</td>\n",
       "      <td>3</td>\n",
       "      <td>Braund, Mr. Owen Harris</td>\n",
       "      <td>male</td>\n",
       "      <td>22.0</td>\n",
       "      <td>1</td>\n",
       "      <td>0</td>\n",
       "      <td>A/5 21171</td>\n",
       "      <td>7.2500</td>\n",
       "      <td>NaN</td>\n",
       "      <td>S</td>\n",
       "    </tr>\n",
       "    <tr>\n",
       "      <th>1</th>\n",
       "      <td>2</td>\n",
       "      <td>1</td>\n",
       "      <td>1</td>\n",
       "      <td>Cumings, Mrs. John Bradley (Florence Briggs Th...</td>\n",
       "      <td>female</td>\n",
       "      <td>38.0</td>\n",
       "      <td>1</td>\n",
       "      <td>0</td>\n",
       "      <td>PC 17599</td>\n",
       "      <td>71.2833</td>\n",
       "      <td>C85</td>\n",
       "      <td>C</td>\n",
       "    </tr>\n",
       "    <tr>\n",
       "      <th>2</th>\n",
       "      <td>3</td>\n",
       "      <td>1</td>\n",
       "      <td>3</td>\n",
       "      <td>Heikkinen, Miss. Laina</td>\n",
       "      <td>female</td>\n",
       "      <td>26.0</td>\n",
       "      <td>0</td>\n",
       "      <td>0</td>\n",
       "      <td>STON/O2. 3101282</td>\n",
       "      <td>7.9250</td>\n",
       "      <td>NaN</td>\n",
       "      <td>S</td>\n",
       "    </tr>\n",
       "    <tr>\n",
       "      <th>3</th>\n",
       "      <td>4</td>\n",
       "      <td>1</td>\n",
       "      <td>1</td>\n",
       "      <td>Futrelle, Mrs. Jacques Heath (Lily May Peel)</td>\n",
       "      <td>female</td>\n",
       "      <td>35.0</td>\n",
       "      <td>1</td>\n",
       "      <td>0</td>\n",
       "      <td>113803</td>\n",
       "      <td>53.1000</td>\n",
       "      <td>C123</td>\n",
       "      <td>S</td>\n",
       "    </tr>\n",
       "    <tr>\n",
       "      <th>4</th>\n",
       "      <td>5</td>\n",
       "      <td>0</td>\n",
       "      <td>3</td>\n",
       "      <td>Allen, Mr. William Henry</td>\n",
       "      <td>male</td>\n",
       "      <td>35.0</td>\n",
       "      <td>0</td>\n",
       "      <td>0</td>\n",
       "      <td>373450</td>\n",
       "      <td>8.0500</td>\n",
       "      <td>NaN</td>\n",
       "      <td>S</td>\n",
       "    </tr>\n",
       "  </tbody>\n",
       "</table>\n",
       "</div>"
      ],
      "text/plain": [
       "   PassengerId  Survived  Pclass  \\\n",
       "0            1         0       3   \n",
       "1            2         1       1   \n",
       "2            3         1       3   \n",
       "3            4         1       1   \n",
       "4            5         0       3   \n",
       "\n",
       "                                                Name     Sex   Age  SibSp  \\\n",
       "0                            Braund, Mr. Owen Harris    male  22.0      1   \n",
       "1  Cumings, Mrs. John Bradley (Florence Briggs Th...  female  38.0      1   \n",
       "2                             Heikkinen, Miss. Laina  female  26.0      0   \n",
       "3       Futrelle, Mrs. Jacques Heath (Lily May Peel)  female  35.0      1   \n",
       "4                           Allen, Mr. William Henry    male  35.0      0   \n",
       "\n",
       "   Parch            Ticket     Fare Cabin Embarked  \n",
       "0      0         A/5 21171   7.2500   NaN        S  \n",
       "1      0          PC 17599  71.2833   C85        C  \n",
       "2      0  STON/O2. 3101282   7.9250   NaN        S  \n",
       "3      0            113803  53.1000  C123        S  \n",
       "4      0            373450   8.0500   NaN        S  "
      ]
     },
     "execution_count": 51,
     "metadata": {},
     "output_type": "execute_result"
    }
   ],
   "source": [
    "titanic = pd.read_csv('train.csv') \n",
    "titanic.head()"
   ]
  },
  {
   "cell_type": "code",
   "execution_count": 52,
   "id": "a21c00c0-d4e3-4ecf-9a29-2844926c0733",
   "metadata": {},
   "outputs": [
    {
     "data": {
      "text/html": [
       "<div>\n",
       "<style scoped>\n",
       "    .dataframe tbody tr th:only-of-type {\n",
       "        vertical-align: middle;\n",
       "    }\n",
       "\n",
       "    .dataframe tbody tr th {\n",
       "        vertical-align: top;\n",
       "    }\n",
       "\n",
       "    .dataframe thead th {\n",
       "        text-align: right;\n",
       "    }\n",
       "</style>\n",
       "<table border=\"1\" class=\"dataframe\">\n",
       "  <thead>\n",
       "    <tr style=\"text-align: right;\">\n",
       "      <th></th>\n",
       "      <th></th>\n",
       "      <th>PassengerId</th>\n",
       "      <th>Survived</th>\n",
       "      <th>Age</th>\n",
       "      <th>Parch</th>\n",
       "      <th>Fare</th>\n",
       "    </tr>\n",
       "    <tr>\n",
       "      <th>Pclass</th>\n",
       "      <th>SibSp</th>\n",
       "      <th></th>\n",
       "      <th></th>\n",
       "      <th></th>\n",
       "      <th></th>\n",
       "      <th></th>\n",
       "    </tr>\n",
       "  </thead>\n",
       "  <tbody>\n",
       "    <tr>\n",
       "      <th rowspan=\"4\" valign=\"top\">1</th>\n",
       "      <th>0</th>\n",
       "      <td>476.0</td>\n",
       "      <td>1.0</td>\n",
       "      <td>37.0</td>\n",
       "      <td>0.0</td>\n",
       "      <td>39.6000</td>\n",
       "    </tr>\n",
       "    <tr>\n",
       "      <th>1</th>\n",
       "      <td>485.0</td>\n",
       "      <td>1.0</td>\n",
       "      <td>38.0</td>\n",
       "      <td>0.0</td>\n",
       "      <td>79.2000</td>\n",
       "    </tr>\n",
       "    <tr>\n",
       "      <th>2</th>\n",
       "      <td>572.0</td>\n",
       "      <td>1.0</td>\n",
       "      <td>44.0</td>\n",
       "      <td>0.0</td>\n",
       "      <td>133.6500</td>\n",
       "    </tr>\n",
       "    <tr>\n",
       "      <th>3</th>\n",
       "      <td>89.0</td>\n",
       "      <td>1.0</td>\n",
       "      <td>23.0</td>\n",
       "      <td>2.0</td>\n",
       "      <td>263.0000</td>\n",
       "    </tr>\n",
       "    <tr>\n",
       "      <th rowspan=\"4\" valign=\"top\">2</th>\n",
       "      <th>0</th>\n",
       "      <td>407.0</td>\n",
       "      <td>0.0</td>\n",
       "      <td>30.0</td>\n",
       "      <td>0.0</td>\n",
       "      <td>13.0000</td>\n",
       "    </tr>\n",
       "    <tr>\n",
       "      <th>1</th>\n",
       "      <td>451.0</td>\n",
       "      <td>1.0</td>\n",
       "      <td>29.0</td>\n",
       "      <td>1.0</td>\n",
       "      <td>26.0000</td>\n",
       "    </tr>\n",
       "    <tr>\n",
       "      <th>2</th>\n",
       "      <td>565.5</td>\n",
       "      <td>0.5</td>\n",
       "      <td>23.5</td>\n",
       "      <td>1.0</td>\n",
       "      <td>39.0000</td>\n",
       "    </tr>\n",
       "    <tr>\n",
       "      <th>3</th>\n",
       "      <td>727.0</td>\n",
       "      <td>1.0</td>\n",
       "      <td>30.0</td>\n",
       "      <td>0.0</td>\n",
       "      <td>21.0000</td>\n",
       "    </tr>\n",
       "    <tr>\n",
       "      <th rowspan=\"7\" valign=\"top\">3</th>\n",
       "      <th>0</th>\n",
       "      <td>472.0</td>\n",
       "      <td>0.0</td>\n",
       "      <td>26.0</td>\n",
       "      <td>0.0</td>\n",
       "      <td>7.8958</td>\n",
       "    </tr>\n",
       "    <tr>\n",
       "      <th>1</th>\n",
       "      <td>372.0</td>\n",
       "      <td>0.0</td>\n",
       "      <td>25.0</td>\n",
       "      <td>0.0</td>\n",
       "      <td>15.5500</td>\n",
       "    </tr>\n",
       "    <tr>\n",
       "      <th>2</th>\n",
       "      <td>334.0</td>\n",
       "      <td>0.0</td>\n",
       "      <td>19.5</td>\n",
       "      <td>0.0</td>\n",
       "      <td>19.2583</td>\n",
       "    </tr>\n",
       "    <tr>\n",
       "      <th>3</th>\n",
       "      <td>302.5</td>\n",
       "      <td>0.0</td>\n",
       "      <td>6.0</td>\n",
       "      <td>1.0</td>\n",
       "      <td>25.4667</td>\n",
       "    </tr>\n",
       "    <tr>\n",
       "      <th>4</th>\n",
       "      <td>264.5</td>\n",
       "      <td>0.0</td>\n",
       "      <td>6.5</td>\n",
       "      <td>1.5</td>\n",
       "      <td>31.2750</td>\n",
       "    </tr>\n",
       "    <tr>\n",
       "      <th>5</th>\n",
       "      <td>387.0</td>\n",
       "      <td>0.0</td>\n",
       "      <td>11.0</td>\n",
       "      <td>2.0</td>\n",
       "      <td>46.9000</td>\n",
       "    </tr>\n",
       "    <tr>\n",
       "      <th>8</th>\n",
       "      <td>325.0</td>\n",
       "      <td>0.0</td>\n",
       "      <td>NaN</td>\n",
       "      <td>2.0</td>\n",
       "      <td>69.5500</td>\n",
       "    </tr>\n",
       "  </tbody>\n",
       "</table>\n",
       "</div>"
      ],
      "text/plain": [
       "              PassengerId  Survived   Age  Parch      Fare\n",
       "Pclass SibSp                                              \n",
       "1      0            476.0       1.0  37.0    0.0   39.6000\n",
       "       1            485.0       1.0  38.0    0.0   79.2000\n",
       "       2            572.0       1.0  44.0    0.0  133.6500\n",
       "       3             89.0       1.0  23.0    2.0  263.0000\n",
       "2      0            407.0       0.0  30.0    0.0   13.0000\n",
       "       1            451.0       1.0  29.0    1.0   26.0000\n",
       "       2            565.5       0.5  23.5    1.0   39.0000\n",
       "       3            727.0       1.0  30.0    0.0   21.0000\n",
       "3      0            472.0       0.0  26.0    0.0    7.8958\n",
       "       1            372.0       0.0  25.0    0.0   15.5500\n",
       "       2            334.0       0.0  19.5    0.0   19.2583\n",
       "       3            302.5       0.0   6.0    1.0   25.4667\n",
       "       4            264.5       0.0   6.5    1.5   31.2750\n",
       "       5            387.0       0.0  11.0    2.0   46.9000\n",
       "       8            325.0       0.0   NaN    2.0   69.5500"
      ]
     },
     "execution_count": 52,
     "metadata": {},
     "output_type": "execute_result"
    }
   ],
   "source": [
    "titanic_1=titanic.groupby([\"Pclass\",\"SibSp\"])\n",
    "titanic_1_median=titanic_1.median()\n",
    "titanic_1_median"
   ]
  },
  {
   "cell_type": "code",
   "execution_count": 53,
   "id": "eb17272b-680f-4c88-b738-d6fabe68ea1d",
   "metadata": {},
   "outputs": [],
   "source": [
    "def fill_age(dataset,dataset_med):\n",
    "    for x in range(len(dataset)):\n",
    "        if dataset[\"Pclass\"][x]==1:\n",
    "            if dataset[\"SibSp\"][x]==0:\n",
    "                return dataset_med.loc[1,0][\"Age\"]\n",
    "            elif dataset[\"SibSp\"][x]==1:\n",
    "                return dataset_med.loc[1,1][\"Age\"]\n",
    "            elif dataset[\"SibSp\"][x]==2:\n",
    "                return dataset_med.loc[1,2][\"Age\"]\n",
    "            elif dataset[\"SibSp\"][x]==3:\n",
    "                return dataset_med.loc[1,3][\"Age\"]\n",
    "        elif dataset[\"Pclass\"][x]==2:\n",
    "            if dataset[\"SibSp\"][x]==0:\n",
    "                return dataset_med.loc[2,0][\"Age\"]\n",
    "            elif dataset[\"SibSp\"][x]==1:\n",
    "                return dataset_med.loc[2,1][\"Age\"]\n",
    "            elif dataset[\"SibSp\"][x]==2:\n",
    "                return dataset_med.loc[2,2][\"Age\"]\n",
    "            elif dataset[\"SibSp\"][x]==3:\n",
    "                return dataset_med.loc[2,3][\"Age\"]\n",
    "        elif dataset[\"Pclass\"][x]==3:\n",
    "            if dataset[\"SibSp\"][x]==0:\n",
    "                return dataset_med.loc[3,0][\"Age\"]\n",
    "            elif dataset[\"SibSp\"][x]==1:\n",
    "                return dataset_med.loc[3,1][\"Age\"]\n",
    "            elif dataset[\"SibSp\"][x]==2:\n",
    "                return dataset_med.loc[3,2][\"Age\"]\n",
    "            elif dataset[\"SibSp\"][x]==3:\n",
    "                return dataset_med.loc[3,3][\"Age\"]\n",
    "            elif dataset[\"SibSp\"][x]==4:\n",
    "                return dataset_med.loc[3,4][\"Age\"]\n",
    "            elif dataset[\"SibSp\"][x]==5:\n",
    "                return dataset_med.loc[3,5][\"Age\"]\n",
    "            elif dataset[\"SibSp\"][x]==8:\n",
    "                return dataset_med.loc[3][\"Age\"].median()"
   ]
  },
  {
   "cell_type": "code",
   "execution_count": 54,
   "id": "cd3f34cc-bcde-44f0-a06a-0a7184d6182c",
   "metadata": {},
   "outputs": [],
   "source": [
    "titanic[\"Age\"]=titanic[\"Age\"].fillna(fill_age(titanic,titanic_1_median))"
   ]
  },
  {
   "cell_type": "code",
   "execution_count": 55,
   "id": "1e8a14b8-26fc-469a-a748-0bd5f06613e8",
   "metadata": {},
   "outputs": [],
   "source": [
    "titanic[\"Cabin\"]=titanic[\"Cabin\"].fillna(\"U\")\n",
    "titanic[\"Cabin\"]=titanic[\"Cabin\"].map(lambda x: x[0])\n",
    "def new_cabin_features(dataset):\n",
    "    dataset[\"Cabin A\"]=np.where(dataset[\"Cabin\"]==\"A\",1,0)\n",
    "    dataset[\"Cabin B\"]=np.where(dataset[\"Cabin\"]==\"B\",1,0)\n",
    "    dataset[\"Cabin C\"]=np.where(dataset[\"Cabin\"]==\"C\",1,0)\n",
    "    dataset[\"Cabin D\"]=np.where(dataset[\"Cabin\"]==\"D\",1,0)\n",
    "    dataset[\"Cabin E\"]=np.where(dataset[\"Cabin\"]==\"E\",1,0)\n",
    "    dataset[\"Cabin F\"]=np.where(dataset[\"Cabin\"]==\"F\",1,0)\n",
    "    dataset[\"Cabin G\"]=np.where(dataset[\"Cabin\"]==\"G\",1,0)\n",
    "    dataset[\"Cabin T\"]=np.where(dataset[\"Cabin\"]==\"T\",1,0) \n",
    "new_cabin_features(titanic)"
   ]
  },
  {
   "cell_type": "code",
   "execution_count": 56,
   "id": "6a1b4b15-f41a-459a-b82a-c5bd1572456d",
   "metadata": {},
   "outputs": [],
   "source": [
    "from sklearn.linear_model import LogisticRegression\n",
    "from sklearn import linear_model\n",
    "from sklearn.model_selection import train_test_split\n",
    "from sklearn import metrics"
   ]
  },
  {
   "cell_type": "code",
   "execution_count": 57,
   "id": "cde6c14f-52f7-43f0-aa14-31ea7ce6d22b",
   "metadata": {},
   "outputs": [
    {
     "name": "stdout",
     "output_type": "stream",
     "text": [
      "     PassengerId  Pclass     Sex   Age  SibSp  Parch     Fare  Cabin A  \\\n",
      "0              1       3    male  22.0      1      0   7.2500        0   \n",
      "1              2       1  female  38.0      1      0  71.2833        0   \n",
      "2              3       3  female  26.0      0      0   7.9250        0   \n",
      "3              4       1  female  35.0      1      0  53.1000        0   \n",
      "4              5       3    male  35.0      0      0   8.0500        0   \n",
      "..           ...     ...     ...   ...    ...    ...      ...      ...   \n",
      "886          887       2    male  27.0      0      0  13.0000        0   \n",
      "887          888       1  female  19.0      0      0  30.0000        0   \n",
      "888          889       3  female  25.0      1      2  23.4500        0   \n",
      "889          890       1    male  26.0      0      0  30.0000        0   \n",
      "890          891       3    male  32.0      0      0   7.7500        0   \n",
      "\n",
      "     Cabin B  Cabin C  Cabin D  Cabin E  Cabin F  Cabin G  Cabin T  \n",
      "0          0        0        0        0        0        0        0  \n",
      "1          0        1        0        0        0        0        0  \n",
      "2          0        0        0        0        0        0        0  \n",
      "3          0        1        0        0        0        0        0  \n",
      "4          0        0        0        0        0        0        0  \n",
      "..       ...      ...      ...      ...      ...      ...      ...  \n",
      "886        0        0        0        0        0        0        0  \n",
      "887        1        0        0        0        0        0        0  \n",
      "888        0        0        0        0        0        0        0  \n",
      "889        0        1        0        0        0        0        0  \n",
      "890        0        0        0        0        0        0        0  \n",
      "\n",
      "[891 rows x 15 columns]\n"
     ]
    }
   ],
   "source": [
    "x = titanic.drop(['Name','Cabin','Embarked','Ticket','Survived'], axis=1)\n",
    "print(x)"
   ]
  },
  {
   "cell_type": "code",
   "execution_count": 58,
   "id": "e41fe488-eeef-4d79-9a3c-3fc7792aa264",
   "metadata": {},
   "outputs": [],
   "source": [
    "y=titanic[\"Survived\"]"
   ]
  },
  {
   "cell_type": "code",
   "execution_count": 59,
   "id": "cab1aee3-8833-441b-b340-c41ab6bea511",
   "metadata": {},
   "outputs": [],
   "source": [
    "map_sex = {\n",
    "    'female': 1, \n",
    "    'male': 0\n",
    "}\n",
    "\n",
    "x.Sex = x.Sex.map(map_sex)"
   ]
  },
  {
   "cell_type": "markdown",
   "id": "fd494aae-0e82-4fbc-878b-27463d9ed91c",
   "metadata": {},
   "source": [
    "***Data Visualization***"
   ]
  },
  {
   "cell_type": "code",
   "execution_count": 60,
   "id": "526984f3-78fb-44ec-917a-bd2b786f0917",
   "metadata": {},
   "outputs": [],
   "source": [
    "import matplotlib.pyplot as plt\n",
    "import seaborn as sns"
   ]
  },
  {
   "cell_type": "code",
   "execution_count": 61,
   "id": "3ef72f92-5272-4aa4-a746-1a4a7a74a4d2",
   "metadata": {},
   "outputs": [
    {
     "data": {
      "image/png": "[encoded data removed]",
      "text/plain": [
       "<Figure size 432x288 with 1 Axes>"
      ]
     },
     "metadata": {
      "needs_background": "light"
     },
     "output_type": "display_data"
    }
   ],
   "source": [
    "sns.scatterplot(x=x.Age, y=x.Fare, hue=x.Pclass, s=200);"
   ]
  },
  {
   "cell_type": "code",
   "execution_count": 13,
   "id": "d49c44a7-c4c5-4832-83cb-869645f11d98",
   "metadata": {},
   "outputs": [
    {
     "data": {
      "image/png": "[encoded data removed]",
      "text/plain": [
       "<Figure size 432x288 with 1 Axes>"
      ]
     },
     "metadata": {
      "needs_background": "light"
     },
     "output_type": "display_data"
    }
   ],
   "source": [
    "plt.title(\"Distribution of Age\")\n",
    "plt.hist(x.Age,bins=50);"
   ]
  },
  {
   "cell_type": "code",
   "execution_count": 62,
   "id": "f8c94e84-d285-47c1-8d0a-0a9bfcf976bc",
   "metadata": {},
   "outputs": [
    {
     "data": {
      "image/png": "[encoded data removed]",
      "text/plain": [
       "<Figure size 432x288 with 1 Axes>"
      ]
     },
     "metadata": {
      "needs_background": "light"
     },
     "output_type": "display_data"
    }
   ],
   "source": [
    "survived_df = titanic[titanic.Survived == 1]\n",
    "DidNotSurvive_df = titanic[titanic.Survived == 0]\n",
    "plt.title('Survival Data')\n",
    "\n",
    "plt.hist([survived_df.Age, DidNotSurvive_df.Age],bins=20);\n",
    "\n",
    "plt.legend(['Survived', 'DidNotSurvive']);"
   ]
  },
  {
   "cell_type": "code",
   "execution_count": 63,
   "id": "1294096e-81af-43b8-8e4b-9eab5d17bcf0",
   "metadata": {},
   "outputs": [],
   "source": [
    "from sklearn.svm import SVC\n",
    "from sklearn import metrics\n",
    "from sklearn import svm\n",
    "from sklearn.model_selection import GridSearchCV\n",
    "from sklearn.metrics import mean_squared_error, r2_score"
   ]
  },
  {
   "cell_type": "code",
   "execution_count": 64,
   "id": "86bf203e-5640-48c3-9908-758adad59973",
   "metadata": {},
   "outputs": [],
   "source": [
    "x_train,x_val,y_train,y_val = train_test_split(x,y,test_size=0.2,random_state=1)"
   ]
  },
  {
   "cell_type": "markdown",
   "id": "10bc5873-5f5c-4483-8dcd-4130fc994760",
   "metadata": {},
   "source": [
    "***GridSearchCV to Tune Hyperparameters***"
   ]
  },
  {
   "cell_type": "markdown",
   "id": "b833f7a1-91b3-45ee-9b78-19aa0492535f",
   "metadata": {},
   "source": [
    "Linear Kernel"
   ]
  },
  {
   "cell_type": "code",
   "execution_count": 18,
   "id": "3f93bf2e-b886-42c7-967c-44f6f2319a51",
   "metadata": {},
   "outputs": [
    {
     "data": {
      "text/plain": [
       "{'C': 1000, 'kernel': 'linear'}"
      ]
     },
     "execution_count": 18,
     "metadata": {},
     "output_type": "execute_result"
    }
   ],
   "source": [
    "params = [{\n",
    "    'C': [0.001, 0.01, 0.1, 1, 10, 100, 1000],\n",
    "    'kernel': ['linear']\n",
    "}]\n",
    "gs_lin = GridSearchCV(svm.SVC(),\n",
    "                      param_grid=params,\n",
    "                      scoring='accuracy',\n",
    "                      cv=5)\n",
    "\n",
    "gs_lin.fit(x_train, y_train)\n",
    "gs_lin.best_params_"
   ]
  },
  {
   "cell_type": "code",
   "execution_count": 20,
   "id": "887cb7e2-14bd-43b9-8b3f-2b7bc573cad6",
   "metadata": {},
   "outputs": [
    {
     "data": {
      "text/plain": [
       "(0.8019662921348315, 0.7597765363128491)"
      ]
     },
     "execution_count": 20,
     "metadata": {},
     "output_type": "execute_result"
    }
   ],
   "source": [
    "gs_lin.score(x_train, y_train), gs_lin.score(x_val, y_val)"
   ]
  },
  {
   "cell_type": "code",
   "execution_count": 21,
   "id": "9b9fa187-430c-4fdf-be01-1570e33a29aa",
   "metadata": {},
   "outputs": [
    {
     "name": "stdout",
     "output_type": "stream",
     "text": [
      "Accuracy of SVM model is: 75.97765363128491\n"
     ]
    }
   ],
   "source": [
    "model = svm.SVC(C=1000, kernel='linear')\n",
    "model.fit(x_train, y_train)\n",
    "preds = model.predict(x_val) #testing\n",
    "\n",
    "print(\"Accuracy of SVM model is:\", metrics.accuracy_score(y_val, preds)*100)"
   ]
  },
  {
   "cell_type": "markdown",
   "id": "982e68bb-6dbf-41e1-8ec7-968d63455616",
   "metadata": {},
   "source": [
    "rbf Kernel"
   ]
  },
  {
   "cell_type": "code",
   "execution_count": 31,
   "id": "0321f40b-30f8-455d-9575-15305343ab38",
   "metadata": {},
   "outputs": [
    {
     "data": {
      "text/plain": [
       "{'C': 0.01, 'gamma': 0.01, 'kernel': 'rbf'}"
      ]
     },
     "execution_count": 31,
     "metadata": {},
     "output_type": "execute_result"
    }
   ],
   "source": [
    "params = [{\n",
    "    'C': [ 0.01, 0.1, 1, 10 ],\n",
    "    'kernel': ['rbf'],\n",
    "    'gamma': [ 0.01, 0.1, 1, 10 ]\n",
    "}]\n",
    "gs_rbf = GridSearchCV(svm.SVC(),\n",
    "                      param_grid=params,\n",
    "                      scoring='accuracy',\n",
    "                      cv=5)\n",
    "\n",
    "gs_rbf.fit(x_train, y_train)\n",
    "gs_rbf.best_params_"
   ]
  },
  {
   "cell_type": "code",
   "execution_count": 73,
   "id": "2cf3ca7f-1a7b-4b30-84b8-148a3dc1c373",
   "metadata": {},
   "outputs": [
    {
     "name": "stdout",
     "output_type": "stream",
     "text": [
      "Accuracy of SVM model is: 59.217877094972074\n"
     ]
    }
   ],
   "source": [
    "model_rbf = svm.SVC(C=0.01, kernel='rbf', gamma=0.01)\n",
    "model_rbf.fit(x_train, y_train)\n",
    "preds = model_rbf.predict(x_val) #testing\n",
    "\n",
    "print(\"Accuracy of SVM model is:\", metrics.accuracy_score(y_val, preds)*100)"
   ]
  },
  {
   "cell_type": "code",
   "execution_count": 33,
   "id": "262ac1ff-8bd6-498b-ad70-044c9e67d9b8",
   "metadata": {},
   "outputs": [
    {
     "data": {
      "text/plain": [
       "(0.6221910112359551, 0.5921787709497207)"
      ]
     },
     "execution_count": 33,
     "metadata": {},
     "output_type": "execute_result"
    }
   ],
   "source": [
    "gs_rbf.score(x_train, y_train), gs_rbf.score(x_val, y_val)"
   ]
  },
  {
   "cell_type": "markdown",
   "id": "e4500f14-c4ca-42e0-975f-b62af7fc42c9",
   "metadata": {},
   "source": [
    "***Predictions on test.csv***"
   ]
  },
  {
   "cell_type": "code",
   "execution_count": 65,
   "id": "d35e15bc-f2a6-422b-86f5-41a0fec133f1",
   "metadata": {},
   "outputs": [],
   "source": [
    "df_test = pd.read_csv('test.csv')"
   ]
  },
  {
   "cell_type": "code",
   "execution_count": 66,
   "id": "9244981a-25c1-473c-ad99-d3dae5ad9ecd",
   "metadata": {},
   "outputs": [
    {
     "data": {
      "text/plain": [
       "PassengerId      0\n",
       "Pclass           0\n",
       "Name             0\n",
       "Sex              0\n",
       "Age             86\n",
       "SibSp            0\n",
       "Parch            0\n",
       "Ticket           0\n",
       "Fare             1\n",
       "Cabin          327\n",
       "Embarked         0\n",
       "dtype: int64"
      ]
     },
     "execution_count": 66,
     "metadata": {},
     "output_type": "execute_result"
    }
   ],
   "source": [
    "df_test.isnull().sum()"
   ]
  },
  {
   "cell_type": "code",
   "execution_count": 67,
   "id": "b65f1af2-3ca1-4509-a2f3-d6e775138802",
   "metadata": {},
   "outputs": [],
   "source": [
    "df_test['Fare'].fillna((df_test['Fare'].mean()), inplace=True)"
   ]
  },
  {
   "cell_type": "code",
   "execution_count": 68,
   "id": "889d80a1-a654-47bb-9b83-d0a1753652a7",
   "metadata": {},
   "outputs": [],
   "source": [
    "df_test.Sex = df_test.Sex.map(map_sex)"
   ]
  },
  {
   "cell_type": "code",
   "execution_count": 69,
   "id": "311dab92-5d89-4d15-bee8-e3c2714a3954",
   "metadata": {},
   "outputs": [],
   "source": [
    "df_test[\"Cabin\"]=df_test[\"Cabin\"].fillna(\"U\")\n",
    "df_test[\"Cabin\"]=df_test[\"Cabin\"].map(lambda x: x[0])\n",
    "new_cabin_features(df_test)"
   ]
  },
  {
   "cell_type": "code",
   "execution_count": 70,
   "id": "83a362a3-69af-4131-952e-563a3f699358",
   "metadata": {},
   "outputs": [],
   "source": [
    "df_test[\"Age\"]=df_test[\"Age\"].fillna(fill_age(df_test,titanic_1_median))\n"
   ]
  },
  {
   "cell_type": "code",
   "execution_count": 72,
   "id": "e36a1561-d35c-4600-984c-589e3ff27cae",
   "metadata": {},
   "outputs": [],
   "source": [
    "df_test.drop(['Name','Cabin','Embarked','Ticket'], axis=1, inplace=True)"
   ]
  },
  {
   "cell_type": "code",
   "execution_count": 74,
   "id": "a1f56086-a732-488e-8e2e-efb00620f24c",
   "metadata": {},
   "outputs": [],
   "source": [
    "y_test_lin = model.predict(df_test)\n",
    "y_test_rbf = model_rbf.predict(df_test)"
   ]
  },
  {
   "cell_type": "code",
   "execution_count": 75,
   "id": "d8f4eb83-26ac-4918-bd99-2edd5ecebf97",
   "metadata": {},
   "outputs": [],
   "source": [
    "Lin_pred = pd.DataFrame({\n",
    "    'predictions': y_test_lin\n",
    "})\n",
    "Lin_pred.to_csv('Lin_ME19B002.csv', index=False)\n",
    "\n",
    "RBF_pred = pd.DataFrame({\n",
    "    'predictions': y_test_rbf\n",
    "})\n",
    "Lin_pred.to_csv('RBF_ME19B002.csv', index=False)"
   ]
  },
  {
   "cell_type": "code",
   "execution_count": null,
   "id": "d59db58e-e460-4e2d-8063-5a6174e074df",
   "metadata": {},
   "outputs": [],
   "source": []
  }
 ],
 "metadata": {
  "kernelspec": {
   "display_name": "Python 3",
   "language": "python",
   "name": "python3"
  },
  "language_info": {
   "codemirror_mode": {
    "name": "ipython",
    "version": 3
   },
   "file_extension": ".py",
   "mimetype": "text/x-python",
   "name": "python",
   "nbconvert_exporter": "python",
   "pygments_lexer": "ipython3",
   "version": "3.6.3"
  }
 },
 "nbformat": 4,
 "nbformat_minor": 5
}
